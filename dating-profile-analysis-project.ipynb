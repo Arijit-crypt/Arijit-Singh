{
 "cells": [
  {
   "cell_type": "markdown",
   "id": "b7d13568",
   "metadata": {
    "papermill": {
     "duration": 0.007824,
     "end_time": "2022-10-07T12:28:33.121668",
     "exception": false,
     "start_time": "2022-10-07T12:28:33.113844",
     "status": "completed"
    },
    "tags": []
   },
   "source": [
    "# Importing and intialising the data"
   ]
  },
  {
   "cell_type": "code",
   "execution_count": 1,
   "id": "b66c03fd",
   "metadata": {
    "_cell_guid": "6c448715-132b-473d-abda-08a3087f1b0f",
    "_uuid": "7ef1c5f3-539d-4377-92d8-ce77fd407da7",
    "collapsed": false,
    "execution": {
     "iopub.execute_input": "2022-10-07T12:28:33.138314Z",
     "iopub.status.busy": "2022-10-07T12:28:33.137402Z",
     "iopub.status.idle": "2022-10-07T12:28:38.017826Z",
     "shell.execute_reply": "2022-10-07T12:28:38.016370Z"
    },
    "jupyter": {
     "outputs_hidden": false
    },
    "papermill": {
     "duration": 4.893025,
     "end_time": "2022-10-07T12:28:38.021214",
     "exception": false,
     "start_time": "2022-10-07T12:28:33.128189",
     "status": "completed"
    },
    "tags": []
   },
   "outputs": [
    {
     "data": {
      "text/html": [
       "<div>\n",
       "<style scoped>\n",
       "    .dataframe tbody tr th:only-of-type {\n",
       "        vertical-align: middle;\n",
       "    }\n",
       "\n",
       "    .dataframe tbody tr th {\n",
       "        vertical-align: top;\n",
       "    }\n",
       "\n",
       "    .dataframe thead th {\n",
       "        text-align: right;\n",
       "    }\n",
       "</style>\n",
       "<table border=\"1\" class=\"dataframe\">\n",
       "  <thead>\n",
       "    <tr style=\"text-align: right;\">\n",
       "      <th></th>\n",
       "      <th>age</th>\n",
       "      <th>body_type</th>\n",
       "      <th>diet</th>\n",
       "      <th>drinks</th>\n",
       "      <th>drugs</th>\n",
       "      <th>education</th>\n",
       "      <th>essay0</th>\n",
       "      <th>essay1</th>\n",
       "      <th>essay2</th>\n",
       "      <th>essay3</th>\n",
       "      <th>...</th>\n",
       "      <th>location</th>\n",
       "      <th>offspring</th>\n",
       "      <th>orientation</th>\n",
       "      <th>pets</th>\n",
       "      <th>religion</th>\n",
       "      <th>sex</th>\n",
       "      <th>sign</th>\n",
       "      <th>smokes</th>\n",
       "      <th>speaks</th>\n",
       "      <th>status</th>\n",
       "    </tr>\n",
       "  </thead>\n",
       "  <tbody>\n",
       "    <tr>\n",
       "      <th>0</th>\n",
       "      <td>22</td>\n",
       "      <td>a little extra</td>\n",
       "      <td>strictly anything</td>\n",
       "      <td>socially</td>\n",
       "      <td>never</td>\n",
       "      <td>working on college/university</td>\n",
       "      <td>about me:&lt;br /&gt;\\n&lt;br /&gt;\\ni would love to think...</td>\n",
       "      <td>currently working as an international agent fo...</td>\n",
       "      <td>making people laugh.&lt;br /&gt;\\nranting about a go...</td>\n",
       "      <td>the way i look. i am a six foot half asian, ha...</td>\n",
       "      <td>...</td>\n",
       "      <td>south san francisco, california</td>\n",
       "      <td>doesn&amp;rsquo;t have kids, but might want them</td>\n",
       "      <td>straight</td>\n",
       "      <td>likes dogs and likes cats</td>\n",
       "      <td>agnosticism and very serious about it</td>\n",
       "      <td>m</td>\n",
       "      <td>gemini</td>\n",
       "      <td>sometimes</td>\n",
       "      <td>english</td>\n",
       "      <td>single</td>\n",
       "    </tr>\n",
       "    <tr>\n",
       "      <th>1</th>\n",
       "      <td>35</td>\n",
       "      <td>average</td>\n",
       "      <td>mostly other</td>\n",
       "      <td>often</td>\n",
       "      <td>sometimes</td>\n",
       "      <td>working on space camp</td>\n",
       "      <td>i am a chef: this is what that means.&lt;br /&gt;\\n1...</td>\n",
       "      <td>dedicating everyday to being an unbelievable b...</td>\n",
       "      <td>being silly. having ridiculous amonts of fun w...</td>\n",
       "      <td>NaN</td>\n",
       "      <td>...</td>\n",
       "      <td>oakland, california</td>\n",
       "      <td>doesn&amp;rsquo;t have kids, but might want them</td>\n",
       "      <td>straight</td>\n",
       "      <td>likes dogs and likes cats</td>\n",
       "      <td>agnosticism but not too serious about it</td>\n",
       "      <td>m</td>\n",
       "      <td>cancer</td>\n",
       "      <td>no</td>\n",
       "      <td>english (fluently), spanish (poorly), french (...</td>\n",
       "      <td>single</td>\n",
       "    </tr>\n",
       "    <tr>\n",
       "      <th>2</th>\n",
       "      <td>38</td>\n",
       "      <td>thin</td>\n",
       "      <td>anything</td>\n",
       "      <td>socially</td>\n",
       "      <td>NaN</td>\n",
       "      <td>graduated from masters program</td>\n",
       "      <td>i'm not ashamed of much, but writing public te...</td>\n",
       "      <td>i make nerdy software for musicians, artists, ...</td>\n",
       "      <td>improvising in different contexts. alternating...</td>\n",
       "      <td>my large jaw and large glasses are the physica...</td>\n",
       "      <td>...</td>\n",
       "      <td>san francisco, california</td>\n",
       "      <td>NaN</td>\n",
       "      <td>straight</td>\n",
       "      <td>has cats</td>\n",
       "      <td>NaN</td>\n",
       "      <td>m</td>\n",
       "      <td>pisces but it doesn&amp;rsquo;t matter</td>\n",
       "      <td>no</td>\n",
       "      <td>english, french, c++</td>\n",
       "      <td>available</td>\n",
       "    </tr>\n",
       "    <tr>\n",
       "      <th>3</th>\n",
       "      <td>23</td>\n",
       "      <td>thin</td>\n",
       "      <td>vegetarian</td>\n",
       "      <td>socially</td>\n",
       "      <td>NaN</td>\n",
       "      <td>working on college/university</td>\n",
       "      <td>i work in a library and go to school. . .</td>\n",
       "      <td>reading things written by old dead people</td>\n",
       "      <td>playing synthesizers and organizing books acco...</td>\n",
       "      <td>socially awkward but i do my best</td>\n",
       "      <td>...</td>\n",
       "      <td>berkeley, california</td>\n",
       "      <td>doesn&amp;rsquo;t want kids</td>\n",
       "      <td>straight</td>\n",
       "      <td>likes cats</td>\n",
       "      <td>NaN</td>\n",
       "      <td>m</td>\n",
       "      <td>pisces</td>\n",
       "      <td>no</td>\n",
       "      <td>english, german (poorly)</td>\n",
       "      <td>single</td>\n",
       "    </tr>\n",
       "    <tr>\n",
       "      <th>4</th>\n",
       "      <td>29</td>\n",
       "      <td>athletic</td>\n",
       "      <td>NaN</td>\n",
       "      <td>socially</td>\n",
       "      <td>never</td>\n",
       "      <td>graduated from college/university</td>\n",
       "      <td>hey how's it going? currently vague on the pro...</td>\n",
       "      <td>work work work work + play</td>\n",
       "      <td>creating imagery to look at:&lt;br /&gt;\\nhttp://bag...</td>\n",
       "      <td>i smile a lot and my inquisitive nature</td>\n",
       "      <td>...</td>\n",
       "      <td>san francisco, california</td>\n",
       "      <td>NaN</td>\n",
       "      <td>straight</td>\n",
       "      <td>likes dogs and likes cats</td>\n",
       "      <td>NaN</td>\n",
       "      <td>m</td>\n",
       "      <td>aquarius</td>\n",
       "      <td>no</td>\n",
       "      <td>english</td>\n",
       "      <td>single</td>\n",
       "    </tr>\n",
       "  </tbody>\n",
       "</table>\n",
       "<p>5 rows × 31 columns</p>\n",
       "</div>"
      ],
      "text/plain": [
       "   age       body_type               diet    drinks      drugs  \\\n",
       "0   22  a little extra  strictly anything  socially      never   \n",
       "1   35         average       mostly other     often  sometimes   \n",
       "2   38            thin           anything  socially        NaN   \n",
       "3   23            thin         vegetarian  socially        NaN   \n",
       "4   29        athletic                NaN  socially      never   \n",
       "\n",
       "                           education  \\\n",
       "0      working on college/university   \n",
       "1              working on space camp   \n",
       "2     graduated from masters program   \n",
       "3      working on college/university   \n",
       "4  graduated from college/university   \n",
       "\n",
       "                                              essay0  \\\n",
       "0  about me:<br />\\n<br />\\ni would love to think...   \n",
       "1  i am a chef: this is what that means.<br />\\n1...   \n",
       "2  i'm not ashamed of much, but writing public te...   \n",
       "3          i work in a library and go to school. . .   \n",
       "4  hey how's it going? currently vague on the pro...   \n",
       "\n",
       "                                              essay1  \\\n",
       "0  currently working as an international agent fo...   \n",
       "1  dedicating everyday to being an unbelievable b...   \n",
       "2  i make nerdy software for musicians, artists, ...   \n",
       "3          reading things written by old dead people   \n",
       "4                         work work work work + play   \n",
       "\n",
       "                                              essay2  \\\n",
       "0  making people laugh.<br />\\nranting about a go...   \n",
       "1  being silly. having ridiculous amonts of fun w...   \n",
       "2  improvising in different contexts. alternating...   \n",
       "3  playing synthesizers and organizing books acco...   \n",
       "4  creating imagery to look at:<br />\\nhttp://bag...   \n",
       "\n",
       "                                              essay3  ...  \\\n",
       "0  the way i look. i am a six foot half asian, ha...  ...   \n",
       "1                                                NaN  ...   \n",
       "2  my large jaw and large glasses are the physica...  ...   \n",
       "3                  socially awkward but i do my best  ...   \n",
       "4            i smile a lot and my inquisitive nature  ...   \n",
       "\n",
       "                          location  \\\n",
       "0  south san francisco, california   \n",
       "1              oakland, california   \n",
       "2        san francisco, california   \n",
       "3             berkeley, california   \n",
       "4        san francisco, california   \n",
       "\n",
       "                                      offspring orientation  \\\n",
       "0  doesn&rsquo;t have kids, but might want them    straight   \n",
       "1  doesn&rsquo;t have kids, but might want them    straight   \n",
       "2                                           NaN    straight   \n",
       "3                       doesn&rsquo;t want kids    straight   \n",
       "4                                           NaN    straight   \n",
       "\n",
       "                        pets                                  religion sex  \\\n",
       "0  likes dogs and likes cats     agnosticism and very serious about it   m   \n",
       "1  likes dogs and likes cats  agnosticism but not too serious about it   m   \n",
       "2                   has cats                                       NaN   m   \n",
       "3                 likes cats                                       NaN   m   \n",
       "4  likes dogs and likes cats                                       NaN   m   \n",
       "\n",
       "                                 sign     smokes  \\\n",
       "0                              gemini  sometimes   \n",
       "1                              cancer         no   \n",
       "2  pisces but it doesn&rsquo;t matter         no   \n",
       "3                              pisces         no   \n",
       "4                            aquarius         no   \n",
       "\n",
       "                                              speaks     status  \n",
       "0                                            english     single  \n",
       "1  english (fluently), spanish (poorly), french (...     single  \n",
       "2                               english, french, c++  available  \n",
       "3                           english, german (poorly)     single  \n",
       "4                                            english     single  \n",
       "\n",
       "[5 rows x 31 columns]"
      ]
     },
     "execution_count": 1,
     "metadata": {},
     "output_type": "execute_result"
    }
   ],
   "source": [
    "import pandas as pd\n",
    "import numpy as np\n",
    "from matplotlib import pyplot as plt\n",
    "from sklearn import preprocessing\n",
    "\n",
    "#Create your df here:\n",
    "profiles = pd.read_csv(\"../input/codecademy-capstone-project/profiles.csv\")\n",
    "profiles.head()"
   ]
  },
  {
   "cell_type": "markdown",
   "id": "050de048",
   "metadata": {
    "papermill": {
     "duration": 0.006416,
     "end_time": "2022-10-07T12:28:38.034667",
     "exception": false,
     "start_time": "2022-10-07T12:28:38.028251",
     "status": "completed"
    },
    "tags": []
   },
   "source": [
    "# Visualising the data"
   ]
  },
  {
   "cell_type": "code",
   "execution_count": 2,
   "id": "354cb3dd",
   "metadata": {
    "execution": {
     "iopub.execute_input": "2022-10-07T12:28:38.050618Z",
     "iopub.status.busy": "2022-10-07T12:28:38.049913Z",
     "iopub.status.idle": "2022-10-07T12:28:38.381237Z",
     "shell.execute_reply": "2022-10-07T12:28:38.379735Z"
    },
    "papermill": {
     "duration": 0.3423,
     "end_time": "2022-10-07T12:28:38.383680",
     "exception": false,
     "start_time": "2022-10-07T12:28:38.041380",
     "status": "completed"
    },
    "tags": []
   },
   "outputs": [
    {
     "data": {
      "image/png": "[encoded data removed]",
      "text/plain": [
       "<Figure size 432x288 with 1 Axes>"
      ]
     },
     "metadata": {
      "needs_background": "light"
     },
     "output_type": "display_data"
    }
   ],
   "source": [
    "plt.hist(profiles.income, bins = 20)\n",
    "plt.title(\"Income distribution\")\n",
    "plt.xlabel(\"Income\")\n",
    "plt.ylabel(\"Frequency\")\n",
    "plt.xlim(0, 200000)\n",
    "plt.show()"
   ]
  },
  {
   "cell_type": "code",
   "execution_count": 3,
   "id": "72441e09",
   "metadata": {
    "execution": {
     "iopub.execute_input": "2022-10-07T12:28:38.400417Z",
     "iopub.status.busy": "2022-10-07T12:28:38.399598Z",
     "iopub.status.idle": "2022-10-07T12:28:38.761475Z",
     "shell.execute_reply": "2022-10-07T12:28:38.759977Z"
    },
    "papermill": {
     "duration": 0.373151,
     "end_time": "2022-10-07T12:28:38.764288",
     "exception": false,
     "start_time": "2022-10-07T12:28:38.391137",
     "status": "completed"
    },
    "tags": []
   },
   "outputs": [
    {
     "data": {
      "image/png": "[encoded data removed]",
      "text/plain": [
       "<Figure size 432x288 with 1 Axes>"
      ]
     },
     "metadata": {
      "needs_background": "light"
     },
     "output_type": "display_data"
    }
   ],
   "source": [
    "plt.scatter(profiles.status, profiles.age, alpha = 0.2)\n",
    "plt.title(\"Distribution of age on basis of status\")\n",
    "plt.xlabel(\"Status\")\n",
    "plt.ylabel(\"Age\")\n",
    "plt.ylim(16,75)\n",
    "plt.show()"
   ]
  },
  {
   "cell_type": "markdown",
   "id": "8a7df925",
   "metadata": {
    "papermill": {
     "duration": 0.007485,
     "end_time": "2022-10-07T12:28:38.780191",
     "exception": false,
     "start_time": "2022-10-07T12:28:38.772706",
     "status": "completed"
    },
    "tags": []
   },
   "source": [
    "# To predict the status\n",
    "\n",
    "We will determine the ```status``` using the columns ```age```, ```drinks```, ```drugs```, ```smokes```, ```sex``` and ```orientation```. Since all the data is categorical (except ```age```), we will first convert it into numerical data."
   ]
  },
  {
   "cell_type": "code",
   "execution_count": 4,
   "id": "c1269b79",
   "metadata": {
    "execution": {
     "iopub.execute_input": "2022-10-07T12:28:38.797363Z",
     "iopub.status.busy": "2022-10-07T12:28:38.796906Z",
     "iopub.status.idle": "2022-10-07T12:28:38.804468Z",
     "shell.execute_reply": "2022-10-07T12:28:38.803072Z"
    },
    "papermill": {
     "duration": 0.019458,
     "end_time": "2022-10-07T12:28:38.807180",
     "exception": false,
     "start_time": "2022-10-07T12:28:38.787722",
     "status": "completed"
    },
    "tags": []
   },
   "outputs": [],
   "source": [
    "# defining the mappings for categorical data\n",
    "drinks_mapping = {'not at all':0, 'rarely':1, 'socially':2, 'often':3, 'very often':4, 'desperately':5}\n",
    "drugs_mapping = {'never':0, 'sometimes':1, 'often':2}\n",
    "smokes_mapping = {'no':0, 'trying to quit':1, 'when drinking':2, 'sometimes':3, 'yes':4}\n",
    "sex_mapping = {'m':0, 'f':1}\n",
    "orientation_mapping = {'straight':0, 'gay':1, 'bisexual':2}\n",
    "\n",
    "# To check the value counts of columns to define the above mentioned mappings\n",
    "# profiles.column_name.value_counts()"
   ]
  },
  {
   "cell_type": "code",
   "execution_count": 5,
   "id": "b99db9bf",
   "metadata": {
    "execution": {
     "iopub.execute_input": "2022-10-07T12:28:38.825089Z",
     "iopub.status.busy": "2022-10-07T12:28:38.824624Z",
     "iopub.status.idle": "2022-10-07T12:28:38.862360Z",
     "shell.execute_reply": "2022-10-07T12:28:38.861168Z"
    },
    "papermill": {
     "duration": 0.050235,
     "end_time": "2022-10-07T12:28:38.865434",
     "exception": false,
     "start_time": "2022-10-07T12:28:38.815199",
     "status": "completed"
    },
    "tags": []
   },
   "outputs": [],
   "source": [
    "# assigning the categorical columns numerical codes\n",
    "profiles['drinks_code'] = profiles.drinks.map(drinks_mapping)\n",
    "profiles['drugs_code'] = profiles.drugs.map(drugs_mapping)\n",
    "profiles['smokes_code'] = profiles.smokes.map(smokes_mapping)\n",
    "profiles['sex_code'] = profiles.sex.map(sex_mapping)\n",
    "profiles['orientation_code'] = profiles.orientation.map(orientation_mapping)"
   ]
  },
  {
   "cell_type": "markdown",
   "id": "289667ec",
   "metadata": {
    "papermill": {
     "duration": 0.007277,
     "end_time": "2022-10-07T12:28:38.880538",
     "exception": false,
     "start_time": "2022-10-07T12:28:38.873261",
     "status": "completed"
    },
    "tags": []
   },
   "source": [
    "# Normalization of data\n",
    "\n",
    "Now that every desired columns' data has been converted to numerical data, we first need to normalize it to bring uniformity."
   ]
  },
  {
   "cell_type": "code",
   "execution_count": 6,
   "id": "7e8490e7",
   "metadata": {
    "execution": {
     "iopub.execute_input": "2022-10-07T12:28:38.898833Z",
     "iopub.status.busy": "2022-10-07T12:28:38.898379Z",
     "iopub.status.idle": "2022-10-07T12:28:38.915151Z",
     "shell.execute_reply": "2022-10-07T12:28:38.913632Z"
    },
    "papermill": {
     "duration": 0.029914,
     "end_time": "2022-10-07T12:28:38.918143",
     "exception": false,
     "start_time": "2022-10-07T12:28:38.888229",
     "status": "completed"
    },
    "tags": []
   },
   "outputs": [],
   "source": [
    "# defining our feature data\n",
    "feature_data = profiles[['age', 'drinks_code', 'drugs_code', 'smokes_code', 'sex_code', 'orientation_code']]\n",
    "x = feature_data.values\n",
    "\n",
    "# scaling our feature data\n",
    "scaler = preprocessing.MinMaxScaler()\n",
    "x_scaled = scaler.fit_transform(x)\n",
    "\n",
    "feature_data = pd.DataFrame(x_scaled, columns = feature_data.columns)\n",
    "\n",
    "# To check is there are any NaN entries\n",
    "# feature_data.column_name.isna().value_counts()"
   ]
  },
  {
   "cell_type": "markdown",
   "id": "cd30a54b",
   "metadata": {
    "papermill": {
     "duration": 0.007496,
     "end_time": "2022-10-07T12:28:38.933465",
     "exception": false,
     "start_time": "2022-10-07T12:28:38.925969",
     "status": "completed"
    },
    "tags": []
   },
   "source": [
    "# Dealing with missing values\n",
    "\n",
    "In the column ```drugs_code```, 14080 data entries are missing. If we are to delete these rows, we will be deleting around 23.5% of the data! This will affect the accuracy of our data in the long run. So, instead of deleting the rows, we will be filling the missing values with the median data."
   ]
  },
  {
   "cell_type": "code",
   "execution_count": 7,
   "id": "22dd6b4c",
   "metadata": {
    "execution": {
     "iopub.execute_input": "2022-10-07T12:28:38.951350Z",
     "iopub.status.busy": "2022-10-07T12:28:38.950932Z",
     "iopub.status.idle": "2022-10-07T12:28:38.969504Z",
     "shell.execute_reply": "2022-10-07T12:28:38.968189Z"
    },
    "papermill": {
     "duration": 0.031121,
     "end_time": "2022-10-07T12:28:38.972466",
     "exception": false,
     "start_time": "2022-10-07T12:28:38.941345",
     "status": "completed"
    },
    "tags": []
   },
   "outputs": [],
   "source": [
    "# filling the missing values with the median values of respective columns\n",
    "for column in feature_data.columns:\n",
    "    feature_data[column].fillna(feature_data[column].median(), inplace = True)"
   ]
  },
  {
   "cell_type": "markdown",
   "id": "7936c273",
   "metadata": {
    "papermill": {
     "duration": 0.007514,
     "end_time": "2022-10-07T12:28:38.988098",
     "exception": false,
     "start_time": "2022-10-07T12:28:38.980584",
     "status": "completed"
    },
    "tags": []
   },
   "source": [
    "# Preparing our target labels\n",
    "\n",
    "We now repeat the same process for ```status``` as we did for the ```feature_data``` (excpet for normalizing)."
   ]
  },
  {
   "cell_type": "code",
   "execution_count": 8,
   "id": "d89f539f",
   "metadata": {
    "execution": {
     "iopub.execute_input": "2022-10-07T12:28:39.005780Z",
     "iopub.status.busy": "2022-10-07T12:28:39.005312Z",
     "iopub.status.idle": "2022-10-07T12:28:39.019352Z",
     "shell.execute_reply": "2022-10-07T12:28:39.017726Z"
    },
    "papermill": {
     "duration": 0.026433,
     "end_time": "2022-10-07T12:28:39.022368",
     "exception": false,
     "start_time": "2022-10-07T12:28:38.995935",
     "status": "completed"
    },
    "tags": []
   },
   "outputs": [],
   "source": [
    "# repeating\n",
    "status_mapping = {'married':0, 'seeing someone':1, 'single':2, 'available':3}\n",
    "profiles['status_code'] = profiles.status.map(status_mapping)\n",
    "\n",
    "target = profiles['status_code']\n",
    "\n",
    "target.fillna(target.median(), inplace = True)"
   ]
  },
  {
   "cell_type": "markdown",
   "id": "4df7fbbd",
   "metadata": {
    "papermill": {
     "duration": 0.007455,
     "end_time": "2022-10-07T12:28:39.037748",
     "exception": false,
     "start_time": "2022-10-07T12:28:39.030293",
     "status": "completed"
    },
    "tags": []
   },
   "source": [
    "# Preparing training and testing datasets\n",
    "\n",
    "Now that we have our ```feature_data``` and ```target```, we now split it into training and testing data. We will keep ```test_size = 0.25``` and ```random_state = 8```. Our new datasets will be ```train_data```, ```test_data```, ```train_labels``` and ```test_labels```."
   ]
  },
  {
   "cell_type": "code",
   "execution_count": 9,
   "id": "4d33dcad",
   "metadata": {
    "execution": {
     "iopub.execute_input": "2022-10-07T12:28:39.055446Z",
     "iopub.status.busy": "2022-10-07T12:28:39.055043Z",
     "iopub.status.idle": "2022-10-07T12:28:39.128126Z",
     "shell.execute_reply": "2022-10-07T12:28:39.126618Z"
    },
    "papermill": {
     "duration": 0.085102,
     "end_time": "2022-10-07T12:28:39.130744",
     "exception": false,
     "start_time": "2022-10-07T12:28:39.045642",
     "status": "completed"
    },
    "tags": []
   },
   "outputs": [
    {
     "data": {
      "text/plain": [
       "((44959, 6), (14987, 6))"
      ]
     },
     "execution_count": 9,
     "metadata": {},
     "output_type": "execute_result"
    }
   ],
   "source": [
    "from sklearn.model_selection import train_test_split\n",
    "\n",
    "train_data, test_data, train_labels, test_labels = train_test_split(feature_data, target, test_size = 0.25, random_state = 8)\n",
    "train_data.shape, test_data.shape"
   ]
  },
  {
   "cell_type": "markdown",
   "id": "f2dc16d9",
   "metadata": {
    "papermill": {
     "duration": 0.007318,
     "end_time": "2022-10-07T12:28:39.145973",
     "exception": false,
     "start_time": "2022-10-07T12:28:39.138655",
     "status": "completed"
    },
    "tags": []
   },
   "source": [
    "# Fitting the data using Random Forest\n",
    "\n",
    "We will use the Random Forest to classify our model. We will use ```n_estimators = 3500```, ```n_jobs = -1``` and ```random_state = 8```."
   ]
  },
  {
   "cell_type": "code",
   "execution_count": 10,
   "id": "4bc733c2",
   "metadata": {
    "execution": {
     "iopub.execute_input": "2022-10-07T12:28:39.163220Z",
     "iopub.status.busy": "2022-10-07T12:28:39.162750Z",
     "iopub.status.idle": "2022-10-07T12:29:24.326835Z",
     "shell.execute_reply": "2022-10-07T12:29:24.325370Z"
    },
    "papermill": {
     "duration": 45.184142,
     "end_time": "2022-10-07T12:29:24.337736",
     "exception": false,
     "start_time": "2022-10-07T12:28:39.153594",
     "status": "completed"
    },
    "tags": []
   },
   "outputs": [
    {
     "name": "stdout",
     "output_type": "stream",
     "text": [
      "0.9258023620471075\n"
     ]
    }
   ],
   "source": [
    "from sklearn.ensemble import RandomForestClassifier\n",
    "\n",
    "forest = RandomForestClassifier(n_estimators = 3500, n_jobs = -1, random_state = 8)\n",
    "forest.fit(train_data, train_labels)\n",
    "print(forest.score(test_data, test_labels))"
   ]
  },
  {
   "cell_type": "markdown",
   "id": "95b319c3",
   "metadata": {
    "papermill": {
     "duration": 0.007622,
     "end_time": "2022-10-07T12:29:24.353194",
     "exception": false,
     "start_time": "2022-10-07T12:29:24.345572",
     "status": "completed"
    },
    "tags": []
   },
   "source": [
    "# Finding the legitimacy of our findings\n",
    "\n",
    "We have got a score of 92.58%, an amazing score! Though the accuracy is high, we need to make sure that the items are also correctly labeled. For this, we will take help of ```crosstab```."
   ]
  },
  {
   "cell_type": "code",
   "execution_count": 11,
   "id": "1e2b10df",
   "metadata": {
    "execution": {
     "iopub.execute_input": "2022-10-07T12:29:24.370512Z",
     "iopub.status.busy": "2022-10-07T12:29:24.370099Z",
     "iopub.status.idle": "2022-10-07T12:29:28.425263Z",
     "shell.execute_reply": "2022-10-07T12:29:28.423861Z"
    },
    "papermill": {
     "duration": 4.066735,
     "end_time": "2022-10-07T12:29:28.427629",
     "exception": false,
     "start_time": "2022-10-07T12:29:24.360894",
     "status": "completed"
    },
    "tags": []
   },
   "outputs": [
    {
     "data": {
      "text/html": [
       "<div>\n",
       "<style scoped>\n",
       "    .dataframe tbody tr th:only-of-type {\n",
       "        vertical-align: middle;\n",
       "    }\n",
       "\n",
       "    .dataframe tbody tr th {\n",
       "        vertical-align: top;\n",
       "    }\n",
       "\n",
       "    .dataframe thead th {\n",
       "        text-align: right;\n",
       "    }\n",
       "</style>\n",
       "<table border=\"1\" class=\"dataframe\">\n",
       "  <thead>\n",
       "    <tr style=\"text-align: right;\">\n",
       "      <th>values</th>\n",
       "      <th>0.0</th>\n",
       "      <th>1.0</th>\n",
       "      <th>2.0</th>\n",
       "      <th>3.0</th>\n",
       "    </tr>\n",
       "    <tr>\n",
       "      <th>predicted</th>\n",
       "      <th></th>\n",
       "      <th></th>\n",
       "      <th></th>\n",
       "      <th></th>\n",
       "    </tr>\n",
       "  </thead>\n",
       "  <tbody>\n",
       "    <tr>\n",
       "      <th>0.0</th>\n",
       "      <td>0</td>\n",
       "      <td>0</td>\n",
       "      <td>3</td>\n",
       "      <td>3</td>\n",
       "    </tr>\n",
       "    <tr>\n",
       "      <th>1.0</th>\n",
       "      <td>0</td>\n",
       "      <td>5</td>\n",
       "      <td>32</td>\n",
       "      <td>3</td>\n",
       "    </tr>\n",
       "    <tr>\n",
       "      <th>2.0</th>\n",
       "      <td>72</td>\n",
       "      <td>496</td>\n",
       "      <td>13855</td>\n",
       "      <td>447</td>\n",
       "    </tr>\n",
       "    <tr>\n",
       "      <th>3.0</th>\n",
       "      <td>2</td>\n",
       "      <td>4</td>\n",
       "      <td>50</td>\n",
       "      <td>15</td>\n",
       "    </tr>\n",
       "  </tbody>\n",
       "</table>\n",
       "</div>"
      ],
      "text/plain": [
       "values     0.0  1.0    2.0  3.0\n",
       "predicted                      \n",
       "0.0          0    0      3    3\n",
       "1.0          0    5     32    3\n",
       "2.0         72  496  13855  447\n",
       "3.0          2    4     50   15"
      ]
     },
     "execution_count": 11,
     "metadata": {},
     "output_type": "execute_result"
    }
   ],
   "source": [
    "predictions = forest.predict(test_data)\n",
    "df = pd.DataFrame({'values': test_labels, 'predicted': predictions})\n",
    "pd.crosstab(df['predicted'], df['values'])"
   ]
  },
  {
   "cell_type": "markdown",
   "id": "90d2f81b",
   "metadata": {
    "papermill": {
     "duration": 0.007739,
     "end_time": "2022-10-07T12:29:28.443294",
     "exception": false,
     "start_time": "2022-10-07T12:29:28.435555",
     "status": "completed"
    },
    "tags": []
   },
   "source": [
    "# Need for better classification model\n",
    "\n",
    "Though we got a very high score, we find that our model was only working perfectly for predicting whether someone is single, and not for any other label. A much better classification would have been made if we had tried to distinguish between whether a person is single or not."
   ]
  },
  {
   "cell_type": "code",
   "execution_count": 12,
   "id": "92ec8007",
   "metadata": {
    "execution": {
     "iopub.execute_input": "2022-10-07T12:29:28.461264Z",
     "iopub.status.busy": "2022-10-07T12:29:28.460818Z",
     "iopub.status.idle": "2022-10-07T12:29:28.475125Z",
     "shell.execute_reply": "2022-10-07T12:29:28.473886Z"
    },
    "papermill": {
     "duration": 0.026482,
     "end_time": "2022-10-07T12:29:28.477879",
     "exception": false,
     "start_time": "2022-10-07T12:29:28.451397",
     "status": "completed"
    },
    "tags": []
   },
   "outputs": [],
   "source": [
    "new_status_mapping = {'married':0, 'seeing someone':0, 'single':1, 'available':1}\n",
    "profiles['single_or_not'] = profiles.status.map(new_status_mapping)\n",
    "\n",
    "profiles['single_or_not']\n",
    "new_target = profiles['single_or_not']\n",
    "\n",
    "new_target.fillna(new_target.median(), inplace = True)"
   ]
  },
  {
   "cell_type": "markdown",
   "id": "ebfa00cc",
   "metadata": {
    "papermill": {
     "duration": 0.007633,
     "end_time": "2022-10-07T12:29:28.493749",
     "exception": false,
     "start_time": "2022-10-07T12:29:28.486116",
     "status": "completed"
    },
    "tags": []
   },
   "source": [
    "# Preparing new training and testing datasets\n",
    "\n",
    "Now that we have our ```feature_data``` and ```new_target```, we now split it into training and testing data. We will keep ```test_size = 0.25``` and ```random_state = 8```. Our new datasets will be ```new_train_data```, ```new_test_data```, ```new_train_labels``` and ```new_test_labels```."
   ]
  },
  {
   "cell_type": "code",
   "execution_count": 13,
   "id": "a20c2ff9",
   "metadata": {
    "execution": {
     "iopub.execute_input": "2022-10-07T12:29:28.511848Z",
     "iopub.status.busy": "2022-10-07T12:29:28.511430Z",
     "iopub.status.idle": "2022-10-07T12:29:28.530487Z",
     "shell.execute_reply": "2022-10-07T12:29:28.528785Z"
    },
    "papermill": {
     "duration": 0.031499,
     "end_time": "2022-10-07T12:29:28.533259",
     "exception": false,
     "start_time": "2022-10-07T12:29:28.501760",
     "status": "completed"
    },
    "tags": []
   },
   "outputs": [
    {
     "data": {
      "text/plain": [
       "((44959, 6), (14987, 6))"
      ]
     },
     "execution_count": 13,
     "metadata": {},
     "output_type": "execute_result"
    }
   ],
   "source": [
    "new_train_data, new_test_data, new_train_labels, new_test_labels = train_test_split(feature_data, new_target, test_size = 0.25, random_state = 8)\n",
    "new_train_data.shape, new_test_data.shape"
   ]
  },
  {
   "cell_type": "markdown",
   "id": "b3bda8a7",
   "metadata": {
    "papermill": {
     "duration": 0.008755,
     "end_time": "2022-10-07T12:29:28.550207",
     "exception": false,
     "start_time": "2022-10-07T12:29:28.541452",
     "status": "completed"
    },
    "tags": []
   },
   "source": [
    "# Fitting the data using Naive Bayes Classifier\n",
    "\n",
    "We will now test our model using ```MultinomialNB```"
   ]
  },
  {
   "cell_type": "code",
   "execution_count": 14,
   "id": "6b7bd0a1",
   "metadata": {
    "execution": {
     "iopub.execute_input": "2022-10-07T12:29:28.568759Z",
     "iopub.status.busy": "2022-10-07T12:29:28.568040Z",
     "iopub.status.idle": "2022-10-07T12:29:28.598419Z",
     "shell.execute_reply": "2022-10-07T12:29:28.597005Z"
    },
    "papermill": {
     "duration": 0.04364,
     "end_time": "2022-10-07T12:29:28.602096",
     "exception": false,
     "start_time": "2022-10-07T12:29:28.558456",
     "status": "completed"
    },
    "tags": []
   },
   "outputs": [
    {
     "name": "stdout",
     "output_type": "stream",
     "text": [
      "0.9613665176486288\n"
     ]
    }
   ],
   "source": [
    "from sklearn.naive_bayes import MultinomialNB\n",
    "\n",
    "mnb = MultinomialNB()\n",
    "mnb.fit(new_train_data, new_train_labels)\n",
    "print(mnb.score(new_test_data, new_test_labels))"
   ]
  },
  {
   "cell_type": "markdown",
   "id": "a9b0b8e4",
   "metadata": {
    "papermill": {
     "duration": 0.007924,
     "end_time": "2022-10-07T12:29:28.618596",
     "exception": false,
     "start_time": "2022-10-07T12:29:28.610672",
     "status": "completed"
    },
    "tags": []
   },
   "source": [
    "# Legitimacy of the new model\n",
    "\n",
    "We again validate the given score using ```crosstab```."
   ]
  },
  {
   "cell_type": "code",
   "execution_count": 15,
   "id": "a90b8b49",
   "metadata": {
    "execution": {
     "iopub.execute_input": "2022-10-07T12:29:28.638718Z",
     "iopub.status.busy": "2022-10-07T12:29:28.636581Z",
     "iopub.status.idle": "2022-10-07T12:29:28.672195Z",
     "shell.execute_reply": "2022-10-07T12:29:28.670526Z"
    },
    "papermill": {
     "duration": 0.048034,
     "end_time": "2022-10-07T12:29:28.674857",
     "exception": false,
     "start_time": "2022-10-07T12:29:28.626823",
     "status": "completed"
    },
    "tags": []
   },
   "outputs": [
    {
     "data": {
      "text/html": [
       "<div>\n",
       "<style scoped>\n",
       "    .dataframe tbody tr th:only-of-type {\n",
       "        vertical-align: middle;\n",
       "    }\n",
       "\n",
       "    .dataframe tbody tr th {\n",
       "        vertical-align: top;\n",
       "    }\n",
       "\n",
       "    .dataframe thead th {\n",
       "        text-align: right;\n",
       "    }\n",
       "</style>\n",
       "<table border=\"1\" class=\"dataframe\">\n",
       "  <thead>\n",
       "    <tr style=\"text-align: right;\">\n",
       "      <th>predictions</th>\n",
       "      <th>1.0</th>\n",
       "    </tr>\n",
       "    <tr>\n",
       "      <th>values</th>\n",
       "      <th></th>\n",
       "    </tr>\n",
       "  </thead>\n",
       "  <tbody>\n",
       "    <tr>\n",
       "      <th>0.0</th>\n",
       "      <td>579</td>\n",
       "    </tr>\n",
       "    <tr>\n",
       "      <th>1.0</th>\n",
       "      <td>14408</td>\n",
       "    </tr>\n",
       "  </tbody>\n",
       "</table>\n",
       "</div>"
      ],
      "text/plain": [
       "predictions    1.0\n",
       "values            \n",
       "0.0            579\n",
       "1.0          14408"
      ]
     },
     "execution_count": 15,
     "metadata": {},
     "output_type": "execute_result"
    }
   ],
   "source": [
    "new_prediction = mnb.predict(new_test_data)\n",
    "new_df = pd.DataFrame({'values': new_test_labels, 'predictions':new_prediction})\n",
    "pd.crosstab(new_df['values'], new_df['predictions'])"
   ]
  },
  {
   "cell_type": "markdown",
   "id": "7e535fc3",
   "metadata": {
    "papermill": {
     "duration": 0.008041,
     "end_time": "2022-10-07T12:29:28.691297",
     "exception": false,
     "start_time": "2022-10-07T12:29:28.683256",
     "status": "completed"
    },
    "tags": []
   },
   "source": [
    "# Conclusion for classification problem\n",
    "\n",
    "Thus we understand that our classification helps in identifying whether a person is single or not. What remains is to be seen is that the model can classify with high accuracy whether someone is single/available, but can it also tell whether someone is not?"
   ]
  }
 ],
 "metadata": {
  "kernelspec": {
   "display_name": "Python 3",
   "language": "python",
   "name": "python3"
  },
  "language_info": {
   "codemirror_mode": {
    "name": "ipython",
    "version": 3
   },
   "file_extension": ".py",
   "mimetype": "text/x-python",
   "name": "python",
   "nbconvert_exporter": "python",
   "pygments_lexer": "ipython3",
   "version": "3.7.12"
  },
  "papermill": {
   "default_parameters": {},
   "duration": 67.583665,
   "end_time": "2022-10-07T12:29:29.825593",
   "environment_variables": {},
   "exception": null,
   "input_path": "__notebook__.ipynb",
   "output_path": "__notebook__.ipynb",
   "parameters": {},
   "start_time": "2022-10-07T12:28:22.241928",
   "version": "2.3.4"
  }
 },
 "nbformat": 4,
 "nbformat_minor": 5
}
